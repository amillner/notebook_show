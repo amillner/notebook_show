{
 "cells": [
  {
   "cell_type": "code",
   "execution_count": 4,
   "metadata": {},
   "outputs": [],
   "source": [
    "import os\n",
    "import pandas as pd\n",
    "from pandas import ExcelWriter\n",
    "import numpy as np\n",
    "import pylab\n",
    "import string\n",
    "import sys\n",
    "from scipy import stats,special \n",
    "import glob\n",
    "\n",
    "import statsmodels.api as sm\n",
    "from statsmodels.formula.api import ols,logit,mixedlm\n",
    "from statsmodels.discrete.discrete_model import Logit\n",
    "from statsmodels.graphics.api import interaction_plot, abline_plot\n",
    "from statsmodels.stats.anova import anova_lm\n",
    "from statsmodels.stats.proportion import proportions_chisquare\n",
    "import statsmodels.stats.power as smp\n",
    "\n",
    "import matplotlib as mtl\n",
    "import matplotlib.pyplot as plt\n",
    "from matplotlib import pylab\n",
    "from pylab import rcParams\n",
    "\n",
    "mtl.style.use('ggplot')\n",
    "mtl.rcParams['pdf.fonttype'] = 42\n",
    "mtl.rcParams['ps.fonttype'] = 42\n",
    "plt.rcParams['font.family'] = 'sans-serif'\n",
    "pylab.rcParams['figure.figsize'] = (10.0, 8.0)\n",
    "\n",
    "\n",
    "#from rpy2.robjects.numpy2ri import ri2py\n",
    "\n",
    "from statsmodels.stats.multicomp import (pairwise_tukeyhsd,\n",
    "                                         MultiComparison)\n",
    "idx=pd.IndexSlice\n",
    "\n",
    "from numpy import array,log, zeros, sum, mean\n",
    "\n",
    "# R\n",
    "%load_ext rpy2.ipython\n",
    "%R library(ez)\n",
    "%R library(lme4)\n",
    "#%R library(lmerTest)\n",
    "%R library(lsmeans)\n",
    "%R library(mutoss)\n",
    "%R library(MASS)\n",
    "%R lsm.options(disable.pbkrtest=TRUE) \n",
    "%R library(phia)\n",
    "%matplotlib inline\n",
    "%R library(sjPlot)\n",
    "%R library(sjstats)\n",
    "%R library(RCurl)\n",
    "%R library(pbkrtest)\n",
    "\n",
    "\n",
    "from IPython.display import clear_output\n",
    "clear_output()"
   ]
  },
  {
   "cell_type": "code",
   "execution_count": 5,
   "metadata": {
    "collapsed": true
   },
   "outputs": [],
   "source": [
    "def det_diff_GameNum(x,nback=5):\n",
    "    if nback == 5:\n",
    "    \n",
    "        if x.GameNum1bk!=x.GameNum5bk and x.GameNum1bk==x.GameNum4bk and x.GameNum1bk==x.GameNum3bk and x.GameNum1bk==x.GameNum2bk:\n",
    "            o=5\n",
    "        elif x.GameNum1bk!=x.GameNum5bk and x.GameNum1bk!=x.GameNum4bk and x.GameNum1bk==x.GameNum3bk and x.GameNum1bk==x.GameNum2bk:\n",
    "            o=4\n",
    "        elif x.GameNum1bk!=x.GameNum5bk and x.GameNum1bk!=x.GameNum4bk and x.GameNum1bk!=x.GameNum3bk and x.GameNum1bk==x.GameNum2bk:\n",
    "            o=3\n",
    "        elif x.GameNum1bk!=x.GameNum5bk and x.GameNum1bk!=x.GameNum4bk and x.GameNum1bk!=x.GameNum3bk and x.GameNum1bk!=x.GameNum2bk:\n",
    "            o=2\n",
    "        elif x.GameNum1bk==x.GameNum5bk and x.GameNum1bk==x.GameNum4bk and x.GameNum1bk==x.GameNum3bk and x.GameNum1bk==x.GameNum2bk:\n",
    "            o=1\n",
    "        else:\n",
    "            o=np.nan\n",
    "    \n",
    "    elif nback == 10:\n",
    "    \n",
    "        if x.GameNum1bk==x.GameNum2bk and x.GameNum1bk==x.GameNum3bk and x.GameNum1bk==x.GameNum4bk and x.GameNum1bk==x.GameNum5bk and \\\n",
    "           x.GameNum1bk==x.GameNum6bk and x.GameNum1bk==x.GameNum7bk and x.GameNum1bk==x.GameNum8bk and x.GameNum1bk==x.GameNum9bk and x.GameNum1bk!=x.GameNum10bk:      \n",
    "            o=10\n",
    "        elif x.GameNum1bk==x.GameNum2bk and x.GameNum1bk==x.GameNum3bk and x.GameNum1bk==x.GameNum4bk and x.GameNum1bk==x.GameNum5bk and \\\n",
    "           x.GameNum1bk==x.GameNum6bk and x.GameNum1bk==x.GameNum7bk and x.GameNum1bk==x.GameNum8bk and x.GameNum1bk!=x.GameNum9bk and x.GameNum1bk!=x.GameNum10bk:      \n",
    "            o=9\n",
    "        elif x.GameNum1bk==x.GameNum2bk and x.GameNum1bk==x.GameNum3bk and x.GameNum1bk==x.GameNum4bk and x.GameNum1bk==x.GameNum5bk and \\\n",
    "           x.GameNum1bk==x.GameNum6bk and x.GameNum1bk==x.GameNum7bk and x.GameNum1bk!=x.GameNum8bk and x.GameNum1bk!=x.GameNum9bk and x.GameNum1bk!=x.GameNum10bk:      \n",
    "            o=8\n",
    "        elif x.GameNum1bk==x.GameNum2bk and x.GameNum1bk==x.GameNum3bk and x.GameNum1bk==x.GameNum4bk and x.GameNum1bk==x.GameNum5bk and \\\n",
    "           x.GameNum1bk==x.GameNum6bk and x.GameNum1bk!=x.GameNum7bk and x.GameNum1bk!=x.GameNum8bk and x.GameNum1bk!=x.GameNum9bk and x.GameNum1bk!=x.GameNum10bk:      \n",
    "            o=7\n",
    "        elif x.GameNum1bk==x.GameNum2bk and x.GameNum1bk==x.GameNum3bk and x.GameNum1bk==x.GameNum4bk and x.GameNum1bk==x.GameNum5bk and \\\n",
    "           x.GameNum1bk!=x.GameNum6bk and x.GameNum1bk!=x.GameNum7bk and x.GameNum1bk!=x.GameNum8bk and x.GameNum1bk!=x.GameNum9bk and x.GameNum1bk!=x.GameNum10bk:      \n",
    "            o=6\n",
    "        elif x.GameNum1bk==x.GameNum2bk and x.GameNum1bk==x.GameNum3bk and x.GameNum1bk==x.GameNum4bk and x.GameNum1bk!=x.GameNum5bk and \\\n",
    "           x.GameNum1bk!=x.GameNum6bk and x.GameNum1bk!=x.GameNum7bk and x.GameNum1bk!=x.GameNum8bk and x.GameNum1bk!=x.GameNum9bk and x.GameNum1bk!=x.GameNum10bk:      \n",
    "            o=5\n",
    "        elif x.GameNum1bk==x.GameNum2bk and x.GameNum1bk==x.GameNum3bk and x.GameNum1bk!=x.GameNum4bk and x.GameNum1bk!=x.GameNum5bk and \\\n",
    "           x.GameNum1bk!=x.GameNum6bk and x.GameNum1bk!=x.GameNum7bk and x.GameNum1bk!=x.GameNum8bk and x.GameNum1bk!=x.GameNum9bk and x.GameNum1bk!=x.GameNum10bk:      \n",
    "            o=4\n",
    "        elif x.GameNum1bk==x.GameNum2bk and x.GameNum1bk!=x.GameNum3bk and x.GameNum1bk!=x.GameNum4bk and x.GameNum1bk!=x.GameNum5bk and \\\n",
    "           x.GameNum1bk!=x.GameNum6bk and x.GameNum1bk!=x.GameNum7bk and x.GameNum1bk!=x.GameNum8bk and x.GameNum1bk!=x.GameNum9bk and x.GameNum1bk!=x.GameNum10bk:      \n",
    "            o=3\n",
    "        elif x.GameNum1bk!=x.GameNum2bk and x.GameNum1bk!=x.GameNum3bk and x.GameNum1bk!=x.GameNum4bk and x.GameNum1bk!=x.GameNum5bk and \\\n",
    "           x.GameNum1bk!=x.GameNum6bk and x.GameNum1bk!=x.GameNum7bk and x.GameNum1bk!=x.GameNum8bk and x.GameNum1bk!=x.GameNum9bk and x.GameNum1bk!=x.GameNum10bk:      \n",
    "            o=2\n",
    "        elif x.GameNum1bk==x.GameNum2bk and x.GameNum1bk==x.GameNum3bk and x.GameNum1bk==x.GameNum4bk and x.GameNum1bk==x.GameNum5bk and \\\n",
    "           x.GameNum1bk==x.GameNum6bk and x.GameNum1bk==x.GameNum7bk and x.GameNum1bk==x.GameNum8bk and x.GameNum1bk==x.GameNum9bk and x.GameNum1bk==x.GameNum10bk:      \n",
    "            o=1\n",
    "        else:\n",
    "            o=np.nan\n",
    "    \n",
    "    return(o)\n",
    "\n",
    "\n",
    "\n",
    "def set_diff_GameNum_to_nan(x1,exclcond,exclcond_type='df',nback=5):\n",
    "    x=x1.copy(deep=True)\n",
    "    \n",
    "    if exclcond_type=='df':\n",
    "        exc = exclcond.ix[x.name]\n",
    "    elif exclcond_type=='num':\n",
    "        exc = exclcond            \n",
    "    \n",
    "    if nback == 5:\n",
    "        if exc==5:\n",
    "            x.loc[x.filter(regex='5').index]=np.nan\n",
    "        elif exc==4:\n",
    "            x.loc[x.filter(regex='5').index]=np.nan\n",
    "            x.loc[x.filter(regex='4').index]=np.nan\n",
    "        elif exc==3:\n",
    "            x.loc[x.filter(regex='5').index]=np.nan\n",
    "            x.loc[x.filter(regex='4').index]=np.nan\n",
    "            x.loc[x.filter(regex='3').index]=np.nan\n",
    "        elif exc==2:\n",
    "            x.loc[x.filter(regex='5').index]=np.nan\n",
    "            x.loc[x.filter(regex='4').index]=np.nan\n",
    "            x.loc[x.filter(regex='3').index]=np.nan\n",
    "            x.loc[x.filter(regex='2').index]=np.nan\n",
    "        elif exc==1:\n",
    "            pass\n",
    "        \n",
    "    if nback == 10:\n",
    "        if exc==10:\n",
    "            x.loc[x.filter(regex='10').index]=np.nan\n",
    "        elif exc==9:\n",
    "            x.loc[x.filter(regex='10').index]=np.nan\n",
    "            x.loc[x.filter(regex='9').index]=np.nan\n",
    "        elif exc==8:\n",
    "            x.loc[x.filter(regex='10').index]=np.nan\n",
    "            x.loc[x.filter(regex='9').index]=np.nan\n",
    "            x.loc[x.filter(regex='8').index]=np.nan\n",
    "        elif exc==7:\n",
    "            x.loc[x.filter(regex='10').index]=np.nan\n",
    "            x.loc[x.filter(regex='9').index]=np.nan\n",
    "            x.loc[x.filter(regex='8').index]=np.nan\n",
    "            x.loc[x.filter(regex='7').index]=np.nan\n",
    "        elif exc==6:\n",
    "            x.loc[x.filter(regex='10').index]=np.nan\n",
    "            x.loc[x.filter(regex='9').index]=np.nan\n",
    "            x.loc[x.filter(regex='8').index]=np.nan\n",
    "            x.loc[x.filter(regex='7').index]=np.nan\n",
    "            x.loc[x.filter(regex='6').index]=np.nan\n",
    "        elif exc==5:\n",
    "            x.loc[x.filter(regex='10').index]=np.nan\n",
    "            x.loc[x.filter(regex='9').index]=np.nan\n",
    "            x.loc[x.filter(regex='8').index]=np.nan\n",
    "            x.loc[x.filter(regex='7').index]=np.nan\n",
    "            x.loc[x.filter(regex='6').index]=np.nan\n",
    "            x.loc[x.filter(regex='5').index]=np.nan\n",
    "        elif exc==4:\n",
    "            x.loc[x.filter(regex='10').index]=np.nan\n",
    "            x.loc[x.filter(regex='9').index]=np.nan\n",
    "            x.loc[x.filter(regex='8').index]=np.nan\n",
    "            x.loc[x.filter(regex='7').index]=np.nan\n",
    "            x.loc[x.filter(regex='6').index]=np.nan\n",
    "            x.loc[x.filter(regex='5').index]=np.nan\n",
    "            x.loc[x.filter(regex='4').index]=np.nan\n",
    "        elif exc==3:\n",
    "            x.loc[x.filter(regex='10').index]=np.nan\n",
    "            x.loc[x.filter(regex='9').index]=np.nan\n",
    "            x.loc[x.filter(regex='8').index]=np.nan\n",
    "            x.loc[x.filter(regex='7').index]=np.nan\n",
    "            x.loc[x.filter(regex='6').index]=np.nan\n",
    "            x.loc[x.filter(regex='5').index]=np.nan\n",
    "            x.loc[x.filter(regex='4').index]=np.nan\n",
    "            x.loc[x.filter(regex='3').index]=np.nan\n",
    "        elif exc==2:\n",
    "            x.loc[x.filter(regex='10').index]=np.nan\n",
    "            x.loc[x.filter(regex='9').index]=np.nan\n",
    "            x.loc[x.filter(regex='8').index]=np.nan\n",
    "            x.loc[x.filter(regex='7').index]=np.nan\n",
    "            x.loc[x.filter(regex='6').index]=np.nan\n",
    "            x.loc[x.filter(regex='5').index]=np.nan\n",
    "            x.loc[x.filter(regex='4').index]=np.nan\n",
    "            x.loc[x.filter(regex='3').index]=np.nan\n",
    "            x.loc[x.filter(regex='9').index]=np.nan\n",
    "            x.loc[x.filter(regex='2').index]=np.nan\n",
    "        elif exc==1:\n",
    "            pass\n",
    "    return(x)\n",
    "\n",
    "\n",
    "def det_accuracy(x,autochoice='nan'):\n",
    "    if x.autochoice_oz==1:\n",
    "        if autochoice=='nan':\n",
    "            autochoice_corr=np.nan\n",
    "        elif autochoice=='incorr':\n",
    "            autochoice_corr=0\n",
    "        elif autochoice=='resp':\n",
    "            if (x.ProbL==90 or x.ProbL==60) and x.autochoice==1:\n",
    "                autochoice_corr=1\n",
    "            elif (x.ProbR==90 or x.ProbR==60) and x.autochoice==2:\n",
    "                autochoice_corr=1\n",
    "            elif (x.ProbL==90 or x.ProbL==60) and x.autochoice==2:\n",
    "                autochoice_corr=0\n",
    "            elif (x.ProbR==90 or x.ProbR==60) and x.autochoice==1:\n",
    "                autochoice_corr=0\n",
    "    \n",
    "    if x.resp==3:\n",
    "        corr=np.nan\n",
    "    elif (x.ProbL==90 or x.ProbL==60) and x.resp==1:\n",
    "        corr=1\n",
    "    elif (x.ProbR==90 or x.ProbR==60) and x.resp==2:\n",
    "        corr=1\n",
    "    elif (x.ProbL==90 or x.ProbL==60) and x.resp==2:\n",
    "        corr=0\n",
    "    elif (x.ProbR==90 or x.ProbR==60) and x.resp==1:\n",
    "        corr=0\n",
    "    elif x.autochoice_oz==1:\n",
    "        corr=autochoice_corr\n",
    "    else:\n",
    "        corr=3\n",
    "    return(corr)"
   ]
  },
  {
   "cell_type": "code",
   "execution_count": 6,
   "metadata": {
    "collapsed": true
   },
   "outputs": [],
   "source": [
    "def get_bin_width(df,binwidth,index=False):\n",
    "    import numpy as np\n",
    "    if index == False:\n",
    "    \tbin_width = np.arange(np.min(df), np.max(df) + binwidth, binwidth)\n",
    "    else:\n",
    "    \tbin_width = np.arange(np.min(df.ix[index]), np.max(df.ix[index]) + binwidth, binwidth)\n",
    "    return(bin_width)"
   ]
  },
  {
   "cell_type": "code",
   "execution_count": 7,
   "metadata": {
    "collapsed": true
   },
   "outputs": [],
   "source": [
    "def mfit_optimize_no_priors(likfun,param,data,nstarts = 5):\n",
    "    \n",
    "    # Find maximum a posteriori parameter estimates.\n",
    "    #\n",
    "    # USAGE: results = mfit_optimize(likfun,param,data,[nstarts])\n",
    "    #\n",
    "    # INPUTS:\n",
    "    #   likfun - likelihood function handle\n",
    "    #   param - [K x 1] parameter structure\n",
    "    #   data - [S x 1] data structure\n",
    "    #   nstarts (optional) - number of random starts (default: 5)\n",
    "    #\n",
    "    # OUTPUTS:\n",
    "    #   results - structure with the following fields:\n",
    "    #               .x - [S x K] parameter estimates\n",
    "    #               .logpost - [S x 1] log posterior\n",
    "    #               .bic - [S x 1] Bayesian information criterion\n",
    "    #               .aic - [S x 1] Akaike information criterion\n",
    "    #               .H - [S x 1] cell array of Hessian matrices\n",
    "    #\n",
    "    # Sam Gershman, June 2015\n",
    "    from scipy.optimize import minimize\n",
    "    from numpy import log, zeros\n",
    "    from numpy.random import uniform\n",
    "    #from RLfun_modV2 import rllik,rlRW,rlRW_lapse_rate,rlRW_lapse_rate_q0,rlRW_lapse_rate_bias,rlRW_lapse_rate_bias_rew_pun,rlRW_lapse_bias_Pav\n",
    "    \n",
    "    S = len(data)\n",
    "    K = len(param)\n",
    "    results = {'K':K}\n",
    "\n",
    "    results['param'] = param\n",
    "    results['likfun'] = likfun\n",
    "\n",
    "    bounds = []\n",
    "    for i in range(K):\n",
    "        bounds.append((param[i]['lb'],param[i]['ub']))\n",
    "    bounds = tuple(bounds)\n",
    "    \n",
    "    results['logpost'] = zeros((S,nstarts))\n",
    "    results['x'] = zeros((S,K))\n",
    "    #results['H'] = zeros((S,K*K))\n",
    "    results['bic'] = zeros((S,nstarts))\n",
    "    results['aic'] = zeros((S,nstarts))\n",
    "    results['winner'] = zeros(S)\n",
    "\n",
    "    for s in range(S):\n",
    "        print('Subject %d'%s)\n",
    "        \n",
    "        # construct posterior function\n",
    "        f = lambda x: -likfun(x,data[s])\n",
    "        for i in range(nstarts):\n",
    "            x0 = zeros(K)\n",
    "            for k in range(K):\n",
    "                x0[k]= uniform(param[k]['lb'],param[k]['ub'])\n",
    "                if i==2:\n",
    "                    x0=array([4,.1,.001,5,.01])\n",
    "            opt_min_result = minimize(f,x0,hess=None,bounds=bounds)\n",
    "            x = opt_min_result.x\n",
    "            logp = -opt_min_result.fun\n",
    "    \n",
    "            results['logpost'][s][i] = logp\n",
    "            if i == 0 or results['logpost'][s][i-1] < logp or results['logpost'][s][i-2] < logp:\n",
    "                \n",
    "                results['x'][s] = x\n",
    "                results['winner'][s]=i\n",
    "\n",
    "            results['bic'][s][i] = K*log(data[s]['N']) - 2*results['logpost'][s][i]\n",
    "            results['aic'][s][i] = K*2 - 2*results['logpost'][s][i]\n",
    "\n",
    "    return(results)"
   ]
  },
  {
   "cell_type": "code",
   "execution_count": 15,
   "metadata": {
    "collapsed": true
   },
   "outputs": [],
   "source": [
    "#File path- in setwd() in R\n",
    "pth='/Volumes/GoogleDrive/My Drive/Work/Projects/CurrentProjects/Escape/Escape_Task_Sui/raw_data'\n",
    "os.chdir(pth)"
   ]
  },
  {
   "cell_type": "code",
   "execution_count": 16,
   "metadata": {
    "collapsed": true
   },
   "outputs": [],
   "source": [
    "#Lists all the files with xlsx in a directory\n",
    "files = glob.glob(r\"*.xlsx\")"
   ]
  },
  {
   "cell_type": "code",
   "execution_count": 17,
   "metadata": {},
   "outputs": [],
   "source": [
    "dlist=[]\n",
    "for f in files:\n",
    "        try:\n",
    "            dtmp=pd.read_excel(f,sheet_name='trials')\n",
    "        except:\n",
    "            continue\n",
    "        dtmp['subn']=int(f[11:14])\n",
    "        dtmp = dtmp.rename(columns=lambda x: x.replace('.', '_'))\n",
    "        dropidx=dtmp[(dtmp.ProbL=='extraInfo')|(dtmp.ProbL=='date')|(dtmp.ProbL=='frameRate')|(dtmp.ProbL=='expName')|(dtmp.ProbL=='participant')|(dtmp.ProbL.isnull())].index\n",
    "        dtmp=dtmp.drop(dropidx)\n",
    "\n",
    "        dlist.append(dtmp)"
   ]
  },
  {
   "cell_type": "code",
   "execution_count": null,
   "metadata": {},
   "outputs": [],
   "source": []
  },
  {
   "cell_type": "code",
   "execution_count": 18,
   "metadata": {},
   "outputs": [
    {
     "name": "stderr",
     "output_type": "stream",
     "text": [
      "/Users/alexmillner/miniconda/lib/python3.6/site-packages/ipykernel_launcher.py:1: FutureWarning: Sorting because non-concatenation axis is not aligned. A future version\n",
      "of pandas will change to not sort by default.\n",
      "\n",
      "To accept the future behavior, pass 'sort=False'.\n",
      "\n",
      "To retain the current behavior and silence the warning, pass 'sort=True'.\n",
      "\n",
      "  \"\"\"Entry point for launching an IPython kernel.\n"
     ]
    }
   ],
   "source": [
    "#make list of DFs into one big DF\n",
    "d=pd.concat(dlist)"
   ]
  },
  {
   "cell_type": "code",
   "execution_count": 19,
   "metadata": {},
   "outputs": [],
   "source": [
    "#Only retain rows where outcome_msg_raw does NOT equal \"'--'\"\n",
    "d=d[d.outcome_msg_raw!=\"'--'\"]"
   ]
  },
  {
   "cell_type": "code",
   "execution_count": 20,
   "metadata": {},
   "outputs": [],
   "source": [
    "d.drop(d.filter(like='Unnamed').columns,axis=1,inplace=True)"
   ]
  },
  {
   "cell_type": "code",
   "execution_count": 21,
   "metadata": {},
   "outputs": [
    {
     "data": {
      "text/plain": [
       "Index(['AvgProb', 'Cond', 'CueResp_keys_raw', 'FdbkSkipTime_mean',\n",
       "       'FdbkSkipTime_raw', 'FdbkSkipTime_std', 'FeedbackTime_mean',\n",
       "       'FeedbackTime_raw', 'FeedbackTime_std', 'GameNum', 'ITI_resp_keys_raw',\n",
       "       'ITI_resp_rt_mean', 'ITI_resp_rt_raw', 'ITI_resp_rt_std', 'ProbL',\n",
       "       'ProbR', 'Randomize', 'RespResultL', 'RespResultR',\n",
       "       'TargetResp_keys_raw', 'TargetResp_rt_mean', 'TargetResp_rt_raw',\n",
       "       'TargetResp_rt_std', 'TrialListVersion', 'TrialNum', 'autochoice_mean',\n",
       "       'autochoice_raw', 'autochoice_std', 'block_trialnum_mean',\n",
       "       'block_trialnum_raw', 'block_trialnum_std', 'choice_pic_raw',\n",
       "       'choice_prob_raw', 'count_down_trials_mean', 'count_down_trials_raw',\n",
       "       'count_down_trials_std', 'endgame_sound_term_time_dynamic_mean',\n",
       "       'endgame_sound_term_time_dynamic_raw',\n",
       "       'endgame_sound_term_time_dynamic_std', 'extra_resp_keys_raw',\n",
       "       'extra_resp_rt_raw', 'feedbacksound1_raw', 'feedbacksound2_raw', 'n',\n",
       "       'next_trial_mean', 'next_trial_raw', 'next_trial_std', 'order',\n",
       "       'outcome_msg_raw', 'outcome_raw', 'sound_outcome_mean',\n",
       "       'sound_outcome_raw', 'sound_outcome_std', 'subn'],\n",
       "      dtype='object')"
      ]
     },
     "execution_count": 21,
     "metadata": {},
     "output_type": "execute_result"
    }
   ],
   "source": [
    "d.columns"
   ]
  },
  {
   "cell_type": "code",
   "execution_count": 22,
   "metadata": {},
   "outputs": [],
   "source": [
    "d=d.rename(columns={'CueResp_keys_raw':'CueResp','Cond':'cond',\\\n",
    "                        'ITI_resp_keys_raw':'ITIresp','TargetResp_keys_raw':'Targetresp',\\\n",
    "                        'TargetResp_rt_raw':'TargetRT','sound_outcome_raw':'fdbk_soundOn',\\\n",
    "                        'autochoice_raw':'autochoice','block_trialnum_raw':'block_trialnum',\\\n",
    "                        'choice_prob_raw':'choice_prob','count_down_trials_raw':'count_down_trials'\\\n",
    "                        ,'next_trial_raw':'next_trial','autochoice_raw':'autochoice'})"
   ]
  },
  {
   "cell_type": "code",
   "execution_count": 23,
   "metadata": {
    "collapsed": true
   },
   "outputs": [],
   "source": [
    "d['resp']=np.nan\n",
    "d.loc[d['Targetresp']==\"'z'\",'resp']=1\n",
    "d.loc[d['Targetresp']==\"'m'\",'resp']=2\n",
    "d.loc[(d['Targetresp']==\"'y'\")\\\n",
    "      |(d['Targetresp']==\"'x'\")\\\n",
    "      |(d['Targetresp']==\"'n'\")\\\n",
    "      |(d['Targetresp']==\"'space'\"),'resp']=3"
   ]
  },
  {
   "cell_type": "code",
   "execution_count": 24,
   "metadata": {},
   "outputs": [],
   "source": [
    "#Left=1, Right=2, Escape=3\n",
    "d['selected_cue']=np.nan\n",
    "d.loc[(d['Targetresp']==\"'z'\")&((d.ProbL==60)|(d.ProbL==90)),'selected_cue']=0\n",
    "d.loc[(d['Targetresp']==\"'m'\")&((d.ProbR==60)|(d.ProbR==90)),'selected_cue']=0\n",
    "d.loc[(d['Targetresp']==\"'z'\")&((d.ProbL==40)|(d.ProbL==10)),'selected_cue']=1\n",
    "d.loc[(d['Targetresp']==\"'m'\")&((d.ProbR==40)|(d.ProbR==10)),'selected_cue']=1\n",
    "d.loc[(d['Targetresp']==\"'y'\")\\\n",
    "      |(d['Targetresp']==\"'x'\")\\\n",
    "      |(d['Targetresp']==\"'n'\")\\\n",
    "      |(d['Targetresp']==\"'space'\"),'selected_cue']=2"
   ]
  },
  {
   "cell_type": "code",
   "execution_count": 25,
   "metadata": {
    "collapsed": true
   },
   "outputs": [],
   "source": [
    "d.loc[d.autochoice.str.contains('0.')==True,'autochoice']=0\n",
    "#Switch so left = 1 and right = 2 as in resp\n",
    "d.autochoice.replace({'[1]':2,'[2]':1},inplace=True)"
   ]
  },
  {
   "cell_type": "code",
   "execution_count": 26,
   "metadata": {
    "collapsed": true
   },
   "outputs": [],
   "source": [
    "d['autochoice_selected_cue']=np.nan\n",
    "d.loc[(d.autochoice==1)&((d.ProbL==60)|(d.ProbL==90)),'autochoice_selected_cue']=0\n",
    "d.loc[(d.autochoice==2)&((d.ProbR==60)|(d.ProbR==90)),'autochoice_selected_cue']=0\n",
    "d.loc[(d.autochoice==1)&((d.ProbL==40)|(d.ProbL==10)),'autochoice_selected_cue']=1\n",
    "d.loc[(d.autochoice==2)&((d.ProbR==40)|(d.ProbR==10)),'autochoice_selected_cue']=1"
   ]
  },
  {
   "cell_type": "code",
   "execution_count": 27,
   "metadata": {
    "collapsed": true
   },
   "outputs": [],
   "source": [
    "d.loc[(d.autochoice!=0)&(d.resp==3),'autochoice_oz']=0\n",
    "d.loc[(d.autochoice!=0)&(d.resp!=3),'autochoice_oz']=1"
   ]
  },
  {
   "cell_type": "code",
   "execution_count": 28,
   "metadata": {},
   "outputs": [],
   "source": [
    "d=d.reset_index(drop=True)\n",
    "d.fdbk_soundOn.replace({\" '--'\":np.nan},inplace=True)\n",
    "d['fdbk_soundOn']=pd.to_numeric(d.fdbk_soundOn)\n",
    "#1=sound off,0=oundon\n",
    "d['fdbk_soundOff']=d['fdbk_soundOn'].replace({0:2,1:0})\n",
    "d['fdbk_soundOff']=d['fdbk_soundOff'].replace({2:1})\n"
   ]
  },
  {
   "cell_type": "code",
   "execution_count": 29,
   "metadata": {},
   "outputs": [],
   "source": [
    "#Auto choices entered as nan\n",
    "d['correct_autonan']=d.apply(lambda x:det_accuracy(x),axis=1)\n",
    "#Auto choices entered as wrong no matter what\n",
    "d['correct_autowrong']=d.apply(lambda x:det_accuracy(x,'incorr'),axis=1)\n",
    "#Autochoices entered as if response was entered\n",
    "d['correct_autoresp']=d.apply(lambda x:det_accuracy(x,'resp'),axis=1)"
   ]
  },
  {
   "cell_type": "code",
   "execution_count": 30,
   "metadata": {},
   "outputs": [],
   "source": [
    "d.loc[d.resp==3,'cond']=d.shift(1).loc[d.resp==3,'cond']"
   ]
  },
  {
   "cell_type": "code",
   "execution_count": null,
   "metadata": {
    "collapsed": true
   },
   "outputs": [],
   "source": []
  },
  {
   "cell_type": "code",
   "execution_count": 31,
   "metadata": {},
   "outputs": [],
   "source": [
    "d['switch']=0\n",
    "d.loc[d.resp==3,'switch']=1"
   ]
  },
  {
   "cell_type": "code",
   "execution_count": 32,
   "metadata": {},
   "outputs": [],
   "source": [
    "GameNumMatch=d.GameNum!=d.shift(1).GameNum\n",
    "GameNumMatch.loc[0]=False"
   ]
  },
  {
   "cell_type": "code",
   "execution_count": 33,
   "metadata": {
    "collapsed": true
   },
   "outputs": [],
   "source": [
    "d['NewGame']=0\n",
    "d.loc[GameNumMatch,'NewGame']=1"
   ]
  },
  {
   "cell_type": "code",
   "execution_count": 34,
   "metadata": {},
   "outputs": [],
   "source": [
    "d.next_trial.replace({\" '--'\":np.nan},inplace=True)\n",
    "d.next_trial=pd.to_numeric(d.next_trial)"
   ]
  },
  {
   "cell_type": "code",
   "execution_count": 35,
   "metadata": {
    "collapsed": true
   },
   "outputs": [],
   "source": [
    "d['trnum']=d.next_trial+1"
   ]
  },
  {
   "cell_type": "code",
   "execution_count": 36,
   "metadata": {},
   "outputs": [],
   "source": [
    "gmtrn=pd.DataFrame(np.repeat(np.nan,d.shape[0]),columns=['gmtrn'])\n",
    "for i in range(d.shape[0]):\n",
    "    if i==0:\n",
    "        gmtrn.loc[i]=1\n",
    "    elif (d.subn.loc[i]!=d.subn.loc[i-1]) or (d.loc[i-1,'switch']==1) or (d.loc[i-1,'trnum']==30):\n",
    "        gmtrn.loc[i]=1\n",
    "    else:\n",
    "        gmtrn.loc[i]=gmtrn.loc[i-1]+1"
   ]
  },
  {
   "cell_type": "code",
   "execution_count": 37,
   "metadata": {},
   "outputs": [],
   "source": [
    "d=pd.concat([d,gmtrn],axis=1)"
   ]
  },
  {
   "cell_type": "code",
   "execution_count": 38,
   "metadata": {
    "collapsed": true
   },
   "outputs": [],
   "source": [
    "d.loc[d.switch==1,['trnum','correct_autonan','correct_autowrong','correct_autoresp','fdbk_soundOff','fdbk_soundOn',\\\n",
    "                              'autochoice_oz','autochoice','ProbR','ProbL']]=np.nan"
   ]
  },
  {
   "cell_type": "code",
   "execution_count": 39,
   "metadata": {},
   "outputs": [],
   "source": [
    "#Fill in Nan b/c of autochoice with choice autochoice made\n",
    "d.selected_cue=d.selected_cue.fillna(d.autochoice_selected_cue)"
   ]
  },
  {
   "cell_type": "code",
   "execution_count": null,
   "metadata": {
    "collapsed": true
   },
   "outputs": [],
   "source": []
  },
  {
   "cell_type": "code",
   "execution_count": 40,
   "metadata": {},
   "outputs": [
    {
     "data": {
      "text/plain": [
       "0.8166550410473788"
      ]
     },
     "execution_count": 40,
     "metadata": {},
     "output_type": "execute_result"
    }
   ],
   "source": [
    "d.correct_autonan.mean()"
   ]
  },
  {
   "cell_type": "code",
   "execution_count": 41,
   "metadata": {},
   "outputs": [
    {
     "data": {
      "text/plain": [
       "81.68110866903224"
      ]
     },
     "execution_count": 41,
     "metadata": {},
     "output_type": "execute_result"
    }
   ],
   "source": [
    "accry=d.groupby('subn').correct_autonan.mean()\n",
    "accry.mean()*100"
   ]
  },
  {
   "cell_type": "code",
   "execution_count": 42,
   "metadata": {},
   "outputs": [
    {
     "data": {
      "image/png": "[encoded data removed]",
      "text/plain": [
       "<Figure size 432x288 with 1 Axes>"
      ]
     },
     "metadata": {
      "needs_background": "light"
     },
     "output_type": "display_data"
    }
   ],
   "source": [
    "bins=get_bin_width(accry,.04)\n",
    "accry.hist(bins=bins)\n",
    "plt.show()"
   ]
  },
  {
   "cell_type": "code",
   "execution_count": 43,
   "metadata": {
    "collapsed": true
   },
   "outputs": [],
   "source": [
    "d.cond.replace({'high':'easy','low':'diff'},inplace=True)"
   ]
  },
  {
   "cell_type": "code",
   "execution_count": 44,
   "metadata": {},
   "outputs": [
    {
     "data": {
      "text/plain": [
       "subn  cond  selected_cue\n",
       "1     diff  0.0              88\n",
       "            1.0              23\n",
       "            2.0               4\n",
       "      easy  0.0             126\n",
       "            1.0               8\n",
       "2     diff  0.0              76\n",
       "            1.0              52\n",
       "            2.0               3\n",
       "      easy  0.0              96\n",
       "            1.0              21\n",
       "            2.0               1\n",
       "3     diff  0.0             115\n",
       "            1.0              35\n",
       "      easy  0.0              92\n",
       "            1.0               5\n",
       "4     diff  0.0              75\n",
       "            1.0              34\n",
       "            2.0               1\n",
       "      easy  0.0             125\n",
       "            1.0              12\n",
       "            2.0               1\n",
       "5     diff  0.0              56\n",
       "            1.0              16\n",
       "            2.0               5\n",
       "      easy  0.0             166\n",
       "            1.0               7\n",
       "6     diff  0.0              35\n",
       "            1.0              40\n",
       "            2.0               7\n",
       "      easy  0.0             144\n",
       "                           ... \n",
       "80    easy  0.0             148\n",
       "            1.0              13\n",
       "            2.0               1\n",
       "81    diff  0.0              48\n",
       "            1.0              11\n",
       "            2.0               7\n",
       "      easy  0.0             170\n",
       "            1.0              14\n",
       "82    diff  0.0              51\n",
       "            1.0              20\n",
       "            2.0               8\n",
       "      easy  0.0             169\n",
       "            1.0               4\n",
       "83    diff  0.0              91\n",
       "            1.0              91\n",
       "            2.0               8\n",
       "      easy  0.0              25\n",
       "            1.0              35\n",
       "            2.0               5\n",
       "84    diff  0.0              53\n",
       "            1.0              63\n",
       "            2.0               6\n",
       "      easy  0.0             101\n",
       "            1.0              26\n",
       "            2.0               2\n",
       "85    diff  0.0              78\n",
       "            1.0              19\n",
       "            2.0               5\n",
       "      easy  0.0             138\n",
       "            1.0              10\n",
       "Name: subn, Length: 422, dtype: int64"
      ]
     },
     "execution_count": 44,
     "metadata": {},
     "output_type": "execute_result"
    }
   ],
   "source": [
    "d.groupby(['subn','cond','selected_cue']).subn.count()"
   ]
  },
  {
   "cell_type": "code",
   "execution_count": 45,
   "metadata": {},
   "outputs": [
    {
     "name": "stdout",
     "output_type": "stream",
     "text": [
      "        535\n"
     ]
    }
   ],
   "source": [
    "total_exits=d[d.resp==3].shape[0]\n",
    "print('        %s'%total_exits)"
   ]
  },
  {
   "cell_type": "code",
   "execution_count": 46,
   "metadata": {},
   "outputs": [
    {
     "ename": "NameError",
     "evalue": "name 'num_exit' is not defined",
     "output_type": "error",
     "traceback": [
      "\u001b[0;31m---------------------------------------------------------------------------\u001b[0m",
      "\u001b[0;31mNameError\u001b[0m                                 Traceback (most recent call last)",
      "\u001b[0;32m<ipython-input-46-bf87a9913f55>\u001b[0m in \u001b[0;36m<module>\u001b[0;34m\u001b[0m\n\u001b[1;32m      1\u001b[0m \u001b[0;31m#Switch x sub\u001b[0m\u001b[0;34m\u001b[0m\u001b[0;34m\u001b[0m\u001b[0;34m\u001b[0m\u001b[0m\n\u001b[0;32m----> 2\u001b[0;31m \u001b[0mswxsub\u001b[0m\u001b[0;34m=\u001b[0m\u001b[0mpd\u001b[0m\u001b[0;34m.\u001b[0m\u001b[0mconcat\u001b[0m\u001b[0;34m(\u001b[0m\u001b[0;34m[\u001b[0m\u001b[0md\u001b[0m\u001b[0;34m[\u001b[0m\u001b[0md\u001b[0m\u001b[0;34m.\u001b[0m\u001b[0mresp\u001b[0m\u001b[0;34m==\u001b[0m\u001b[0;36m3\u001b[0m\u001b[0;34m]\u001b[0m\u001b[0;34m.\u001b[0m\u001b[0mgroupby\u001b[0m\u001b[0;34m(\u001b[0m\u001b[0;34m'subn'\u001b[0m\u001b[0;34m)\u001b[0m\u001b[0;34m.\u001b[0m\u001b[0msubn\u001b[0m\u001b[0;34m.\u001b[0m\u001b[0mcount\u001b[0m\u001b[0;34m(\u001b[0m\u001b[0;34m)\u001b[0m\u001b[0;34m,\u001b[0m\u001b[0mnum_exit\u001b[0m\u001b[0;34m]\u001b[0m\u001b[0;34m,\u001b[0m\u001b[0maxis\u001b[0m\u001b[0;34m=\u001b[0m\u001b[0;36m1\u001b[0m\u001b[0;34m)\u001b[0m\u001b[0;34m\u001b[0m\u001b[0;34m\u001b[0m\u001b[0m\n\u001b[0m",
      "\u001b[0;31mNameError\u001b[0m: name 'num_exit' is not defined"
     ]
    }
   ],
   "source": [
    "#Switch x sub\n",
    "swxsub=pd.concat([d[d.resp==3].groupby('subn').subn.count(),num_exit],axis=1)"
   ]
  },
  {
   "cell_type": "code",
   "execution_count": 47,
   "metadata": {
    "collapsed": true
   },
   "outputs": [],
   "source": [
    "swxcond=pd.DataFrame([d[(d.resp==3) & (d.shift(1).cond=='easy')].shape[0],\\\n",
    "              d[(d.resp==3) & (d.shift(1).cond=='diff')].shape[0]],columns=['NumExits'],\\\n",
    "                     index=['Easy (90-10 contingencies)','Difficult (60-40 contingencies)'])"
   ]
  },
  {
   "cell_type": "code",
   "execution_count": 48,
   "metadata": {},
   "outputs": [
    {
     "data": {
      "text/html": [
       "<div>\n",
       "<style scoped>\n",
       "    .dataframe tbody tr th:only-of-type {\n",
       "        vertical-align: middle;\n",
       "    }\n",
       "\n",
       "    .dataframe tbody tr th {\n",
       "        vertical-align: top;\n",
       "    }\n",
       "\n",
       "    .dataframe thead th {\n",
       "        text-align: right;\n",
       "    }\n",
       "</style>\n",
       "<table border=\"1\" class=\"dataframe\">\n",
       "  <thead>\n",
       "    <tr style=\"text-align: right;\">\n",
       "      <th></th>\n",
       "      <th>NumExits</th>\n",
       "    </tr>\n",
       "  </thead>\n",
       "  <tbody>\n",
       "    <tr>\n",
       "      <th>Easy (90-10 contingencies)</th>\n",
       "      <td>122</td>\n",
       "    </tr>\n",
       "    <tr>\n",
       "      <th>Difficult (60-40 contingencies)</th>\n",
       "      <td>413</td>\n",
       "    </tr>\n",
       "  </tbody>\n",
       "</table>\n",
       "</div>"
      ],
      "text/plain": [
       "                                 NumExits\n",
       "Easy (90-10 contingencies)            122\n",
       "Difficult (60-40 contingencies)       413"
      ]
     },
     "execution_count": 48,
     "metadata": {},
     "output_type": "execute_result"
    }
   ],
   "source": [
    "swxcond"
   ]
  },
  {
   "cell_type": "code",
   "execution_count": null,
   "metadata": {
    "collapsed": true
   },
   "outputs": [],
   "source": []
  },
  {
   "cell_type": "code",
   "execution_count": 49,
   "metadata": {},
   "outputs": [],
   "source": [
    "switches = d.groupby(['subn','cond','resp']).resp.sum()"
   ]
  },
  {
   "cell_type": "code",
   "execution_count": 50,
   "metadata": {},
   "outputs": [],
   "source": [
    "switches.name='resp_sum'"
   ]
  },
  {
   "cell_type": "code",
   "execution_count": null,
   "metadata": {},
   "outputs": [],
   "source": []
  },
  {
   "cell_type": "code",
   "execution_count": null,
   "metadata": {
    "collapsed": true
   },
   "outputs": [],
   "source": []
  },
  {
   "cell_type": "code",
   "execution_count": null,
   "metadata": {
    "collapsed": true
   },
   "outputs": [],
   "source": []
  },
  {
   "cell_type": "code",
   "execution_count": null,
   "metadata": {
    "collapsed": true
   },
   "outputs": [],
   "source": []
  },
  {
   "cell_type": "code",
   "execution_count": null,
   "metadata": {
    "collapsed": true
   },
   "outputs": [],
   "source": []
  },
  {
   "cell_type": "code",
   "execution_count": 52,
   "metadata": {
    "collapsed": true
   },
   "outputs": [],
   "source": [
    "os.chdir('/Volumes/GoogleDrive/My Drive/Work/Projects/CurrentProjects/Escape/Escape_Task_Sui/')"
   ]
  },
  {
   "cell_type": "code",
   "execution_count": 53,
   "metadata": {
    "collapsed": true
   },
   "outputs": [],
   "source": [
    "grps=pd.read_excel('Groups.xlsx',sheet_name='Sheet1')"
   ]
  },
  {
   "cell_type": "code",
   "execution_count": 54,
   "metadata": {},
   "outputs": [],
   "source": [
    "grps=grps[grps.Group!='DROP']"
   ]
  },
  {
   "cell_type": "code",
   "execution_count": 55,
   "metadata": {},
   "outputs": [],
   "source": [
    "switches=switches.reset_index()"
   ]
  },
  {
   "cell_type": "code",
   "execution_count": 56,
   "metadata": {},
   "outputs": [],
   "source": [
    "swtch=switches.merge(grps,on='subn',how='inner')"
   ]
  },
  {
   "cell_type": "code",
   "execution_count": 57,
   "metadata": {
    "scrolled": true
   },
   "outputs": [],
   "source": [
    "swtch.loc[swtch.Group=='CN','grp_sui_nosui']='2nosui'\n",
    "swtch.loc[(swtch.Group=='AT')|(swtch.Group=='ID'),'grp_sui_nosui']='1sui'"
   ]
  },
  {
   "cell_type": "code",
   "execution_count": 58,
   "metadata": {},
   "outputs": [
    {
     "data": {
      "text/html": [
       "<div>\n",
       "<style scoped>\n",
       "    .dataframe tbody tr th:only-of-type {\n",
       "        vertical-align: middle;\n",
       "    }\n",
       "\n",
       "    .dataframe tbody tr th {\n",
       "        vertical-align: top;\n",
       "    }\n",
       "\n",
       "    .dataframe thead th {\n",
       "        text-align: right;\n",
       "    }\n",
       "</style>\n",
       "<table border=\"1\" class=\"dataframe\">\n",
       "  <thead>\n",
       "    <tr style=\"text-align: right;\">\n",
       "      <th></th>\n",
       "      <th>subn</th>\n",
       "      <th>cond</th>\n",
       "      <th>resp</th>\n",
       "      <th>resp_sum</th>\n",
       "      <th>Group</th>\n",
       "      <th>grp_sui_nosui</th>\n",
       "    </tr>\n",
       "  </thead>\n",
       "  <tbody>\n",
       "    <tr>\n",
       "      <th>0</th>\n",
       "      <td>1</td>\n",
       "      <td>diff</td>\n",
       "      <td>1.0</td>\n",
       "      <td>57.0</td>\n",
       "      <td>ID</td>\n",
       "      <td>1sui</td>\n",
       "    </tr>\n",
       "    <tr>\n",
       "      <th>1</th>\n",
       "      <td>1</td>\n",
       "      <td>diff</td>\n",
       "      <td>2.0</td>\n",
       "      <td>104.0</td>\n",
       "      <td>ID</td>\n",
       "      <td>1sui</td>\n",
       "    </tr>\n",
       "    <tr>\n",
       "      <th>2</th>\n",
       "      <td>1</td>\n",
       "      <td>diff</td>\n",
       "      <td>3.0</td>\n",
       "      <td>12.0</td>\n",
       "      <td>ID</td>\n",
       "      <td>1sui</td>\n",
       "    </tr>\n",
       "    <tr>\n",
       "      <th>3</th>\n",
       "      <td>1</td>\n",
       "      <td>easy</td>\n",
       "      <td>1.0</td>\n",
       "      <td>63.0</td>\n",
       "      <td>ID</td>\n",
       "      <td>1sui</td>\n",
       "    </tr>\n",
       "    <tr>\n",
       "      <th>4</th>\n",
       "      <td>1</td>\n",
       "      <td>easy</td>\n",
       "      <td>2.0</td>\n",
       "      <td>142.0</td>\n",
       "      <td>ID</td>\n",
       "      <td>1sui</td>\n",
       "    </tr>\n",
       "  </tbody>\n",
       "</table>\n",
       "</div>"
      ],
      "text/plain": [
       "   subn  cond  resp  resp_sum Group grp_sui_nosui\n",
       "0     1  diff   1.0      57.0    ID          1sui\n",
       "1     1  diff   2.0     104.0    ID          1sui\n",
       "2     1  diff   3.0      12.0    ID          1sui\n",
       "3     1  easy   1.0      63.0    ID          1sui\n",
       "4     1  easy   2.0     142.0    ID          1sui"
      ]
     },
     "execution_count": 58,
     "metadata": {},
     "output_type": "execute_result"
    }
   ],
   "source": [
    "swtch.head()"
   ]
  },
  {
   "cell_type": "code",
   "execution_count": 59,
   "metadata": {
    "collapsed": true
   },
   "outputs": [],
   "source": [
    "swtch=swtch[swtch.resp==3]"
   ]
  },
  {
   "cell_type": "code",
   "execution_count": 60,
   "metadata": {},
   "outputs": [],
   "source": [
    "swtch=swtch[swtch.resp_sum<40]"
   ]
  },
  {
   "cell_type": "code",
   "execution_count": 61,
   "metadata": {},
   "outputs": [
    {
     "data": {
      "text/plain": [
       "<matplotlib.axes._subplots.AxesSubplot at 0x1c1cf4f0b8>"
      ]
     },
     "execution_count": 61,
     "metadata": {},
     "output_type": "execute_result"
    },
    {
     "data": {
      "image/png": "[encoded data removed]",
      "text/plain": [
       "<Figure size 432x288 with 1 Axes>"
      ]
     },
     "metadata": {
      "needs_background": "light"
     },
     "output_type": "display_data"
    }
   ],
   "source": [
    "\n",
    "swtch[swtch.Group=='ID'].resp_sum.hist(bins=get_bin_width(swtch[swtch.Group=='CN'].resp_sum,.5))"
   ]
  },
  {
   "cell_type": "code",
   "execution_count": 65,
   "metadata": {},
   "outputs": [
    {
     "data": {
      "text/html": [
       "<div>\n",
       "<style scoped>\n",
       "    .dataframe tbody tr th:only-of-type {\n",
       "        vertical-align: middle;\n",
       "    }\n",
       "\n",
       "    .dataframe tbody tr th {\n",
       "        vertical-align: top;\n",
       "    }\n",
       "\n",
       "    .dataframe thead th {\n",
       "        text-align: right;\n",
       "    }\n",
       "</style>\n",
       "<table border=\"1\" class=\"dataframe\">\n",
       "  <thead>\n",
       "    <tr style=\"text-align: right;\">\n",
       "      <th>cond</th>\n",
       "      <th>diff</th>\n",
       "      <th>easy</th>\n",
       "    </tr>\n",
       "    <tr>\n",
       "      <th>Group</th>\n",
       "      <th></th>\n",
       "      <th></th>\n",
       "    </tr>\n",
       "  </thead>\n",
       "  <tbody>\n",
       "    <tr>\n",
       "      <th>AT</th>\n",
       "      <td>15.600000</td>\n",
       "      <td>10.333333</td>\n",
       "    </tr>\n",
       "    <tr>\n",
       "      <th>CN</th>\n",
       "      <td>13.071429</td>\n",
       "      <td>8.571429</td>\n",
       "    </tr>\n",
       "    <tr>\n",
       "      <th>ID</th>\n",
       "      <td>18.631579</td>\n",
       "      <td>7.500000</td>\n",
       "    </tr>\n",
       "  </tbody>\n",
       "</table>\n",
       "</div>"
      ],
      "text/plain": [
       "cond        diff       easy\n",
       "Group                      \n",
       "AT     15.600000  10.333333\n",
       "CN     13.071429   8.571429\n",
       "ID     18.631579   7.500000"
      ]
     },
     "execution_count": 65,
     "metadata": {},
     "output_type": "execute_result"
    }
   ],
   "source": []
  },
  {
   "cell_type": "code",
   "execution_count": 91,
   "metadata": {},
   "outputs": [
    {
     "data": {
      "text/plain": [
       "array([[<matplotlib.axes._subplots.AxesSubplot object at 0x1c1fada390>,\n",
       "        <matplotlib.axes._subplots.AxesSubplot object at 0x1c1fcb9b70>],\n",
       "       [<matplotlib.axes._subplots.AxesSubplot object at 0x1c1fce7048>,\n",
       "        <matplotlib.axes._subplots.AxesSubplot object at 0x1c1fd7e5c0>]],\n",
       "      dtype=object)"
      ]
     },
     "execution_count": 91,
     "metadata": {},
     "output_type": "execute_result"
    },
    {
     "data": {
      "image/png": "[encoded data removed]",
      "text/plain": [
       "<Figure size 432x288 with 4 Axes>"
      ]
     },
     "metadata": {
      "needs_background": "light"
     },
     "output_type": "display_data"
    }
   ],
   "source": [
    "swtch[(swtch.Group=='CN')&(swtch.cond=='diff')].hist()"
   ]
  },
  {
   "cell_type": "code",
   "execution_count": 96,
   "metadata": {},
   "outputs": [
    {
     "data": {
      "text/html": [
       "<div>\n",
       "<style scoped>\n",
       "    .dataframe tbody tr th:only-of-type {\n",
       "        vertical-align: middle;\n",
       "    }\n",
       "\n",
       "    .dataframe tbody tr th {\n",
       "        vertical-align: top;\n",
       "    }\n",
       "\n",
       "    .dataframe thead th {\n",
       "        text-align: right;\n",
       "    }\n",
       "</style>\n",
       "<table border=\"1\" class=\"dataframe\">\n",
       "  <thead>\n",
       "    <tr style=\"text-align: right;\">\n",
       "      <th></th>\n",
       "      <th>subn</th>\n",
       "      <th>cond</th>\n",
       "      <th>resp</th>\n",
       "      <th>resp_sum</th>\n",
       "      <th>Group</th>\n",
       "      <th>grp_sui_nosui</th>\n",
       "    </tr>\n",
       "  </thead>\n",
       "  <tbody>\n",
       "    <tr>\n",
       "      <th>20</th>\n",
       "      <td>4</td>\n",
       "      <td>easy</td>\n",
       "      <td>3.0</td>\n",
       "      <td>3.0</td>\n",
       "      <td>CN</td>\n",
       "      <td>2nosui</td>\n",
       "    </tr>\n",
       "    <tr>\n",
       "      <th>63</th>\n",
       "      <td>13</td>\n",
       "      <td>easy</td>\n",
       "      <td>3.0</td>\n",
       "      <td>3.0</td>\n",
       "      <td>CN</td>\n",
       "      <td>2nosui</td>\n",
       "    </tr>\n",
       "    <tr>\n",
       "      <th>173</th>\n",
       "      <td>38</td>\n",
       "      <td>easy</td>\n",
       "      <td>3.0</td>\n",
       "      <td>3.0</td>\n",
       "      <td>CN</td>\n",
       "      <td>2nosui</td>\n",
       "    </tr>\n",
       "    <tr>\n",
       "      <th>187</th>\n",
       "      <td>42</td>\n",
       "      <td>easy</td>\n",
       "      <td>3.0</td>\n",
       "      <td>9.0</td>\n",
       "      <td>CN</td>\n",
       "      <td>2nosui</td>\n",
       "    </tr>\n",
       "    <tr>\n",
       "      <th>204</th>\n",
       "      <td>45</td>\n",
       "      <td>easy</td>\n",
       "      <td>3.0</td>\n",
       "      <td>3.0</td>\n",
       "      <td>CN</td>\n",
       "      <td>2nosui</td>\n",
       "    </tr>\n",
       "    <tr>\n",
       "      <th>361</th>\n",
       "      <td>75</td>\n",
       "      <td>easy</td>\n",
       "      <td>3.0</td>\n",
       "      <td>33.0</td>\n",
       "      <td>CN</td>\n",
       "      <td>2nosui</td>\n",
       "    </tr>\n",
       "    <tr>\n",
       "      <th>410</th>\n",
       "      <td>84</td>\n",
       "      <td>easy</td>\n",
       "      <td>3.0</td>\n",
       "      <td>6.0</td>\n",
       "      <td>CN</td>\n",
       "      <td>2nosui</td>\n",
       "    </tr>\n",
       "  </tbody>\n",
       "</table>\n",
       "</div>"
      ],
      "text/plain": [
       "     subn  cond  resp  resp_sum Group grp_sui_nosui\n",
       "20      4  easy   3.0       3.0    CN        2nosui\n",
       "63     13  easy   3.0       3.0    CN        2nosui\n",
       "173    38  easy   3.0       3.0    CN        2nosui\n",
       "187    42  easy   3.0       9.0    CN        2nosui\n",
       "204    45  easy   3.0       3.0    CN        2nosui\n",
       "361    75  easy   3.0      33.0    CN        2nosui\n",
       "410    84  easy   3.0       6.0    CN        2nosui"
      ]
     },
     "execution_count": 96,
     "metadata": {},
     "output_type": "execute_result"
    }
   ],
   "source": [
    "swtch[(swtch.Group=='CN')&(swtch.cond=='easy')]"
   ]
  },
  {
   "cell_type": "code",
   "execution_count": 97,
   "metadata": {},
   "outputs": [],
   "source": [
    "swtch=swtch.drop(361)"
   ]
  },
  {
   "cell_type": "code",
   "execution_count": 107,
   "metadata": {},
   "outputs": [],
   "source": [
    "swtch.Group=swtch.Group.replace({'AT':'1AT','ID':'2ID','CN':'3CN'})\n",
    "swtch['Group10']=swtch.Group.replace({'1AT':1,'2ID':2,'3CN':3})"
   ]
  },
  {
   "cell_type": "code",
   "execution_count": 102,
   "metadata": {},
   "outputs": [
    {
     "data": {
      "text/html": [
       "<div>\n",
       "<style scoped>\n",
       "    .dataframe tbody tr th:only-of-type {\n",
       "        vertical-align: middle;\n",
       "    }\n",
       "\n",
       "    .dataframe tbody tr th {\n",
       "        vertical-align: top;\n",
       "    }\n",
       "\n",
       "    .dataframe thead th {\n",
       "        text-align: right;\n",
       "    }\n",
       "</style>\n",
       "<table border=\"1\" class=\"dataframe\">\n",
       "  <thead>\n",
       "    <tr style=\"text-align: right;\">\n",
       "      <th></th>\n",
       "      <th>subn</th>\n",
       "      <th>cond</th>\n",
       "      <th>resp</th>\n",
       "      <th>resp_sum</th>\n",
       "      <th>Group</th>\n",
       "      <th>grp_sui_nosui</th>\n",
       "    </tr>\n",
       "  </thead>\n",
       "  <tbody>\n",
       "    <tr>\n",
       "      <th>69</th>\n",
       "      <td>14</td>\n",
       "      <td>easy</td>\n",
       "      <td>3.0</td>\n",
       "      <td>9.0</td>\n",
       "      <td>1AT</td>\n",
       "      <td>1sui</td>\n",
       "    </tr>\n",
       "    <tr>\n",
       "      <th>75</th>\n",
       "      <td>15</td>\n",
       "      <td>easy</td>\n",
       "      <td>3.0</td>\n",
       "      <td>3.0</td>\n",
       "      <td>1AT</td>\n",
       "      <td>1sui</td>\n",
       "    </tr>\n",
       "    <tr>\n",
       "      <th>109</th>\n",
       "      <td>22</td>\n",
       "      <td>easy</td>\n",
       "      <td>3.0</td>\n",
       "      <td>6.0</td>\n",
       "      <td>1AT</td>\n",
       "      <td>1sui</td>\n",
       "    </tr>\n",
       "    <tr>\n",
       "      <th>198</th>\n",
       "      <td>44</td>\n",
       "      <td>easy</td>\n",
       "      <td>3.0</td>\n",
       "      <td>12.0</td>\n",
       "      <td>1AT</td>\n",
       "      <td>1sui</td>\n",
       "    </tr>\n",
       "    <tr>\n",
       "      <th>273</th>\n",
       "      <td>59</td>\n",
       "      <td>easy</td>\n",
       "      <td>3.0</td>\n",
       "      <td>3.0</td>\n",
       "      <td>1AT</td>\n",
       "      <td>1sui</td>\n",
       "    </tr>\n",
       "    <tr>\n",
       "      <th>327</th>\n",
       "      <td>69</td>\n",
       "      <td>easy</td>\n",
       "      <td>3.0</td>\n",
       "      <td>15.0</td>\n",
       "      <td>1AT</td>\n",
       "      <td>1sui</td>\n",
       "    </tr>\n",
       "    <tr>\n",
       "      <th>333</th>\n",
       "      <td>70</td>\n",
       "      <td>easy</td>\n",
       "      <td>3.0</td>\n",
       "      <td>27.0</td>\n",
       "      <td>1AT</td>\n",
       "      <td>1sui</td>\n",
       "    </tr>\n",
       "    <tr>\n",
       "      <th>388</th>\n",
       "      <td>80</td>\n",
       "      <td>easy</td>\n",
       "      <td>3.0</td>\n",
       "      <td>3.0</td>\n",
       "      <td>1AT</td>\n",
       "      <td>1sui</td>\n",
       "    </tr>\n",
       "    <tr>\n",
       "      <th>404</th>\n",
       "      <td>83</td>\n",
       "      <td>easy</td>\n",
       "      <td>3.0</td>\n",
       "      <td>15.0</td>\n",
       "      <td>1AT</td>\n",
       "      <td>1sui</td>\n",
       "    </tr>\n",
       "  </tbody>\n",
       "</table>\n",
       "</div>"
      ],
      "text/plain": [
       "     subn  cond  resp  resp_sum Group grp_sui_nosui\n",
       "69     14  easy   3.0       9.0   1AT          1sui\n",
       "75     15  easy   3.0       3.0   1AT          1sui\n",
       "109    22  easy   3.0       6.0   1AT          1sui\n",
       "198    44  easy   3.0      12.0   1AT          1sui\n",
       "273    59  easy   3.0       3.0   1AT          1sui\n",
       "327    69  easy   3.0      15.0   1AT          1sui\n",
       "333    70  easy   3.0      27.0   1AT          1sui\n",
       "388    80  easy   3.0       3.0   1AT          1sui\n",
       "404    83  easy   3.0      15.0   1AT          1sui"
      ]
     },
     "execution_count": 102,
     "metadata": {},
     "output_type": "execute_result"
    }
   ],
   "source": [
    "swtch[(swtch.Group=='1AT')&(swtch.cond=='easy')]"
   ]
  },
  {
   "cell_type": "code",
   "execution_count": 103,
   "metadata": {},
   "outputs": [],
   "source": [
    "swtch=swtch.drop(333)"
   ]
  },
  {
   "cell_type": "code",
   "execution_count": 120,
   "metadata": {},
   "outputs": [
    {
     "data": {
      "image/png": "[encoded data removed]",
      "text/plain": [
       "<Figure size 432x288 with 1 Axes>"
      ]
     },
     "metadata": {
      "needs_background": "light"
     },
     "output_type": "display_data"
    }
   ],
   "source": [
    "ci=swtch.groupby(['Group','cond']).resp_sum.sem().unstack()*1.96\n",
    "swtch.groupby(['Group','cond']).resp_sum.mean().unstack().plot(kind='bar',yerr=ci,legend=False)\n",
    "plt.savefig('escape.pdf')"
   ]
  },
  {
   "cell_type": "code",
   "execution_count": 105,
   "metadata": {},
   "outputs": [
    {
     "name": "stderr",
     "output_type": "stream",
     "text": [
      "R[write to console]: Loading required package: Rcpp\n",
      "\n",
      "R[write to console]: Loading required package: RcppZiggurat\n",
      "\n"
     ]
    },
    {
     "data": {
      "text/plain": [
       "array(['Rfast', 'RcppZiggurat', 'Rcpp', 'MASS', 'lme4', 'Matrix', 'tools',\n",
       "       'stats', 'graphics', 'grDevices', 'utils', 'datasets', 'methods',\n",
       "       'base'], dtype='<U12')"
      ]
     },
     "execution_count": 105,
     "metadata": {},
     "output_type": "execute_result"
    }
   ],
   "source": [
    "%R library(Rfast)"
   ]
  },
  {
   "cell_type": "code",
   "execution_count": 115,
   "metadata": {},
   "outputs": [],
   "source": [
    "swtchdiff=swtch[swtch.cond=='diff'].copy(deep=True)\n",
    "swtcheasy=swtch[swtch.cond=='easy'].copy(deep=True)"
   ]
  },
  {
   "cell_type": "code",
   "execution_count": 116,
   "metadata": {},
   "outputs": [],
   "source": [
    "%R -i swtch\n",
    "%R -i swtchdiff\n",
    "%R -i swtcheasy"
   ]
  },
  {
   "cell_type": "code",
   "execution_count": 117,
   "metadata": {},
   "outputs": [
    {
     "data": {
      "text/plain": [
       "array([2, 2, 3, 3, 2, 2, 2, 3, 2, 3, 1, 1, 2, 2, 2, 2, 2, 1, 2, 2, 2, 2,\n",
       "       2, 1, 3, 3, 2, 3, 3, 2, 1, 3, 2, 1, 3, 2, 2, 2, 2, 1, 2, 2, 2, 1,\n",
       "       2, 2, 2, 2, 3, 2, 1, 1, 1, 1, 2, 2, 2, 2, 2, 2, 2, 1, 3, 3, 1, 3,\n",
       "       1], dtype=int32)"
      ]
     },
     "execution_count": 117,
     "metadata": {},
     "output_type": "execute_result"
    }
   ],
   "source": [
    "%R swtchdiff$Group10"
   ]
  },
  {
   "cell_type": "code",
   "execution_count": 112,
   "metadata": {},
   "outputs": [
    {
     "data": {
      "text/plain": [
       "array([1.95442422e+01, 5.70192813e-05])"
      ]
     },
     "execution_count": 112,
     "metadata": {},
     "output_type": "execute_result"
    }
   ],
   "source": [
    "%R pout=poisson.anova(swtch$resp_sum, swtch$Group10, logged = FALSE)"
   ]
  },
  {
   "cell_type": "code",
   "execution_count": 118,
   "metadata": {},
   "outputs": [
    {
     "data": {
      "text/plain": [
       "array([1.66924591e+01, 2.37289517e-04])"
      ]
     },
     "execution_count": 118,
     "metadata": {},
     "output_type": "execute_result"
    }
   ],
   "source": [
    "%R pout=poisson.anova(swtchdiff$resp_sum, swtch$Group10, logged = FALSE)"
   ]
  },
  {
   "cell_type": "code",
   "execution_count": 119,
   "metadata": {},
   "outputs": [
    {
     "data": {
      "text/plain": [
       "array([1.69736147, 0.42797918])"
      ]
     },
     "execution_count": 119,
     "metadata": {},
     "output_type": "execute_result"
    }
   ],
   "source": [
    "%R pout=poisson.anova(swtcheasy$resp_sum, swtch$Group10, logged = FALSE)"
   ]
  },
  {
   "cell_type": "code",
   "execution_count": 95,
   "metadata": {},
   "outputs": [
    {
     "data": {
      "text/plain": [
       "<matplotlib.axes._subplots.AxesSubplot at 0x1c1fe1c208>"
      ]
     },
     "execution_count": 95,
     "metadata": {},
     "output_type": "execute_result"
    },
    {
     "data": {
      "image/png": "[encoded data removed]",
      "text/plain": [
       "<Figure size 432x288 with 1 Axes>"
      ]
     },
     "metadata": {
      "needs_background": "light"
     },
     "output_type": "display_data"
    }
   ],
   "source": [
    "ci=swtch.groupby(['grp_sui_nosui','cond']).resp_sum.sem().unstack()\n",
    "swtch.groupby(['grp_sui_nosui','cond']).resp_sum.mean().unstack().plot(kind='bar',yerr=ci)"
   ]
  },
  {
   "cell_type": "code",
   "execution_count": 82,
   "metadata": {},
   "outputs": [
    {
     "data": {
      "text/plain": [
       "Ttest_indResult(statistic=0.84846386833333032, pvalue=0.39960897489579073)"
      ]
     },
     "execution_count": 82,
     "metadata": {},
     "output_type": "execute_result"
    }
   ],
   "source": [
    "stats.ttest_ind(switches[switches.Group=='DCN'].resp.dropna(),switches[(switches.Group=='ID')|(switches.Group=='AT')].resp.dropna())"
   ]
  },
  {
   "cell_type": "code",
   "execution_count": null,
   "metadata": {
    "collapsed": true
   },
   "outputs": [],
   "source": []
  }
 ],
 "metadata": {
  "kernelspec": {
   "display_name": "Python 3",
   "language": "python",
   "name": "python3"
  },
  "language_info": {
   "codemirror_mode": {
    "name": "ipython",
    "version": 3
   },
   "file_extension": ".py",
   "mimetype": "text/x-python",
   "name": "python",
   "nbconvert_exporter": "python",
   "pygments_lexer": "ipython3",
   "version": "3.6.12"
  }
 },
 "nbformat": 4,
 "nbformat_minor": 2
}
