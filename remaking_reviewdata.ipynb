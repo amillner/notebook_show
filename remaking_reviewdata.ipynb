{
 "cells": [
  {
   "cell_type": "code",
   "execution_count": 26,
   "metadata": {},
   "outputs": [],
   "source": [
    "import pandas as pd"
   ]
  },
  {
   "cell_type": "code",
   "execution_count": 2,
   "metadata": {},
   "outputs": [],
   "source": [
    "cols=['SI1','SI2','SI3','SI4']"
   ]
  },
  {
   "cell_type": "code",
   "execution_count": 3,
   "metadata": {},
   "outputs": [],
   "source": [
    "df=pd.DataFrame([],columns=cols,index=list(range(131)))"
   ]
  },
  {
   "cell_type": "code",
   "execution_count": 4,
   "metadata": {},
   "outputs": [],
   "source": [
    "b=0\n",
    "c=26\n",
    "df.loc[b:c,cols]=[1,1,1,1]"
   ]
  },
  {
   "cell_type": "code",
   "execution_count": 6,
   "metadata": {},
   "outputs": [],
   "source": [
    "d=4\n",
    "b=c\n",
    "c=c+d\n",
    "df.loc[b:c,cols]=[1,1,1,0]"
   ]
  },
  {
   "cell_type": "code",
   "execution_count": 8,
   "metadata": {},
   "outputs": [],
   "source": [
    "d=5\n",
    "b=c\n",
    "c=c+d\n",
    "df.loc[b:c,cols]=[0,1,1,1]"
   ]
  },
  {
   "cell_type": "code",
   "execution_count": 10,
   "metadata": {},
   "outputs": [],
   "source": [
    "d=11\n",
    "b=c\n",
    "c=c+d\n",
    "df.loc[b:c,cols]=[1,0,1,1]"
   ]
  },
  {
   "cell_type": "code",
   "execution_count": 12,
   "metadata": {},
   "outputs": [],
   "source": [
    "d=2\n",
    "b=c\n",
    "c=c+d\n",
    "df.loc[b:c,cols]=[1,1,0,1]"
   ]
  },
  {
   "cell_type": "code",
   "execution_count": 14,
   "metadata": {},
   "outputs": [
    {
     "name": "stdout",
     "output_type": "stream",
     "text": [
      "48\n",
      "49\n"
     ]
    }
   ],
   "source": [
    "d=1\n",
    "b=c\n",
    "c=c+d\n",
    "df.loc[b:c,cols]=[1,1,0,0]"
   ]
  },
  {
   "cell_type": "code",
   "execution_count": 15,
   "metadata": {},
   "outputs": [
    {
     "name": "stdout",
     "output_type": "stream",
     "text": [
      "49\n",
      "50\n"
     ]
    }
   ],
   "source": [
    "d=1\n",
    "b=c\n",
    "c=c+d\n",
    "df.loc[b:c,cols]=[1,0,1,0]"
   ]
  },
  {
   "cell_type": "code",
   "execution_count": 16,
   "metadata": {},
   "outputs": [
    {
     "name": "stdout",
     "output_type": "stream",
     "text": [
      "50\n",
      "56\n"
     ]
    }
   ],
   "source": [
    "d=6\n",
    "b=c\n",
    "c=c+d\n",
    "df.loc[b:c,cols]=[1,0,0,1]"
   ]
  },
  {
   "cell_type": "code",
   "execution_count": 17,
   "metadata": {},
   "outputs": [
    {
     "name": "stdout",
     "output_type": "stream",
     "text": [
      "56\n",
      "57\n"
     ]
    }
   ],
   "source": [
    "d=1\n",
    "b=c\n",
    "c=c+d\n",
    "df.loc[b:c,cols]=[0,1,1,0]"
   ]
  },
  {
   "cell_type": "code",
   "execution_count": 18,
   "metadata": {},
   "outputs": [
    {
     "name": "stdout",
     "output_type": "stream",
     "text": [
      "57\n",
      "58\n"
     ]
    }
   ],
   "source": [
    "d=1\n",
    "b=c\n",
    "c=c+d\n",
    "df.loc[b:c,cols]=[0,1,0,1]"
   ]
  },
  {
   "cell_type": "code",
   "execution_count": 19,
   "metadata": {},
   "outputs": [
    {
     "name": "stdout",
     "output_type": "stream",
     "text": [
      "58\n",
      "103\n"
     ]
    }
   ],
   "source": [
    "d=45\n",
    "b=c\n",
    "c=c+d\n",
    "df.loc[b:c,cols]=[0,0,1,1]"
   ]
  },
  {
   "cell_type": "code",
   "execution_count": 20,
   "metadata": {},
   "outputs": [
    {
     "name": "stdout",
     "output_type": "stream",
     "text": [
      "103\n",
      "106\n"
     ]
    }
   ],
   "source": [
    "d=3\n",
    "b=c\n",
    "c=c+d\n",
    "df.loc[b:c,cols]=[1,0,0,0]"
   ]
  },
  {
   "cell_type": "code",
   "execution_count": 21,
   "metadata": {},
   "outputs": [
    {
     "name": "stdout",
     "output_type": "stream",
     "text": [
      "106\n",
      "114\n"
     ]
    }
   ],
   "source": [
    "d=8\n",
    "b=c\n",
    "c=c+d\n",
    "df.loc[b:c,cols]=[0,1,0,0]"
   ]
  },
  {
   "cell_type": "code",
   "execution_count": 22,
   "metadata": {},
   "outputs": [
    {
     "name": "stdout",
     "output_type": "stream",
     "text": [
      "114\n",
      "121\n"
     ]
    }
   ],
   "source": [
    "d=7\n",
    "b=c\n",
    "c=c+d\n",
    "df.loc[b:c,cols]=[0,0,1,0]"
   ]
  },
  {
   "cell_type": "code",
   "execution_count": 23,
   "metadata": {},
   "outputs": [
    {
     "name": "stdout",
     "output_type": "stream",
     "text": [
      "121\n",
      "131\n"
     ]
    }
   ],
   "source": [
    "d=10\n",
    "b=c\n",
    "c=c+d\n",
    "df.loc[b:c,cols]=[0,0,0,1]"
   ]
  },
  {
   "cell_type": "code",
   "execution_count": 24,
   "metadata": {},
   "outputs": [
    {
     "name": "stdout",
     "output_type": "stream",
     "text": [
      "121\n",
      "131\n"
     ]
    }
   ],
   "source": [
    "print(b)\n",
    "print(c)"
   ]
  },
  {
   "cell_type": "code",
   "execution_count": 25,
   "metadata": {},
   "outputs": [],
   "source": [
    "df.to_csv('~/Desktop/SIagree.csv',index=False)"
   ]
  },
  {
   "cell_type": "code",
   "execution_count": 33,
   "metadata": {},
   "outputs": [],
   "source": [
    "df1df2_oneCol = pd.concat([df.SI1,df.SI2,df.SI3,df.SI4],axis=0)"
   ]
  },
  {
   "cell_type": "code",
   "execution_count": 34,
   "metadata": {},
   "outputs": [],
   "source": [
    "df1df2=df"
   ]
  },
  {
   "cell_type": "code",
   "execution_count": 35,
   "metadata": {},
   "outputs": [],
   "source": [
    "ns = df1df2.shape[0]\n",
    "nr = df1df2.shape[1]\n",
    "\n",
    "SStotal = (np.var(df1df2_oneCol,ddof=1))*(ns*nr-1)\n",
    "MSr = np.var(np.mean(df1df2,axis=1),ddof=1)*nr\n",
    "MSw = sum(np.var(df1df2,axis=1,ddof=1)/float(ns))\n",
    "MSc = np.var(np.mean(df1df2,axis=0),ddof=1)*ns\n",
    "MSe = (SStotal-MSr*(ns-1)-MSc*(nr-1))/float((ns-1)*(nr-1))\n",
    "\n",
    "\n",
    "#Single\n",
    "ICC_Single_1_way_absagree = (MSr-MSw)/float(MSr+((nr-1)*MSw))\n",
    "ICC_Single_2_way_absagree  = (MSr-MSe)/float(MSr+(nr-1)*MSe+(nr/float(ns))*(MSc-MSe))\n",
    "ICC_Single_2_way_consistency = (MSr-MSe)/float(MSr+((nr-1)*MSe))\n",
    "\n",
    "#Average\n",
    "ICC_Avg_1_way_absagree = (MSr-MSw)/float(MSr)\n",
    "ICC_Avg_2_way_absagree = (MSr-MSe)/float(MSr+(MSc-MSe)/float(ns))\n",
    "ICC_Avg_2_way_consistency = (MSr-MSe)/float(MSr)\n"
   ]
  },
  {
   "cell_type": "code",
   "execution_count": 38,
   "metadata": {},
   "outputs": [],
   "source": [
    "out=pd.DataFrame([ICC_Single_1_way_absagree,\\\n",
    " ICC_Single_2_way_absagree,\\\n",
    " ICC_Single_2_way_consistency,\\\n",
    " ICC_Avg_1_way_absagree,\\\n",
    " ICC_Avg_2_way_absagree,\\\n",
    " ICC_Avg_2_way_consistency],\\\n",
    "index=\n",
    "['ICC_Single_1_way_absagree',\\\n",
    " 'ICC_Single_2_way_absagree',\\\n",
    " 'ICC_Single_2_way_consistency',\\\n",
    " 'ICC_Avg_1_way_absagree',\\\n",
    " 'ICC_Avg_2_way_absagree',\\\n",
    " 'ICC_Avg_2_way_consistency'] )"
   ]
  },
  {
   "cell_type": "code",
   "execution_count": 39,
   "metadata": {},
   "outputs": [
    {
     "data": {
      "text/html": [
       "<div>\n",
       "<style scoped>\n",
       "    .dataframe tbody tr th:only-of-type {\n",
       "        vertical-align: middle;\n",
       "    }\n",
       "\n",
       "    .dataframe tbody tr th {\n",
       "        vertical-align: top;\n",
       "    }\n",
       "\n",
       "    .dataframe thead th {\n",
       "        text-align: right;\n",
       "    }\n",
       "</style>\n",
       "<table border=\"1\" class=\"dataframe\">\n",
       "  <thead>\n",
       "    <tr style=\"text-align: right;\">\n",
       "      <th></th>\n",
       "      <th>0</th>\n",
       "    </tr>\n",
       "  </thead>\n",
       "  <tbody>\n",
       "    <tr>\n",
       "      <th>ICC_Single_1_way_absagree</th>\n",
       "      <td>0.030604</td>\n",
       "    </tr>\n",
       "    <tr>\n",
       "      <th>ICC_Single_2_way_absagree</th>\n",
       "      <td>0.079708</td>\n",
       "    </tr>\n",
       "    <tr>\n",
       "      <th>ICC_Single_2_way_consistency</th>\n",
       "      <td>0.099962</td>\n",
       "    </tr>\n",
       "    <tr>\n",
       "      <th>ICC_Avg_1_way_absagree</th>\n",
       "      <td>0.112120</td>\n",
       "    </tr>\n",
       "    <tr>\n",
       "      <th>ICC_Avg_2_way_absagree</th>\n",
       "      <td>0.257303</td>\n",
       "    </tr>\n",
       "    <tr>\n",
       "      <th>ICC_Avg_2_way_consistency</th>\n",
       "      <td>0.307601</td>\n",
       "    </tr>\n",
       "  </tbody>\n",
       "</table>\n",
       "</div>"
      ],
      "text/plain": [
       "                                     0\n",
       "ICC_Single_1_way_absagree     0.030604\n",
       "ICC_Single_2_way_absagree     0.079708\n",
       "ICC_Single_2_way_consistency  0.099962\n",
       "ICC_Avg_1_way_absagree        0.112120\n",
       "ICC_Avg_2_way_absagree        0.257303\n",
       "ICC_Avg_2_way_consistency     0.307601"
      ]
     },
     "execution_count": 39,
     "metadata": {},
     "output_type": "execute_result"
    }
   ],
   "source": [
    "out"
   ]
  },
  {
   "cell_type": "code",
   "execution_count": null,
   "metadata": {},
   "outputs": [],
   "source": []
  }
 ],
 "metadata": {
  "kernelspec": {
   "display_name": "Python 3",
   "language": "python",
   "name": "python3"
  },
  "language_info": {
   "codemirror_mode": {
    "name": "ipython",
    "version": 3
   },
   "file_extension": ".py",
   "mimetype": "text/x-python",
   "name": "python",
   "nbconvert_exporter": "python",
   "pygments_lexer": "ipython3",
   "version": "3.6.12"
  }
 },
 "nbformat": 4,
 "nbformat_minor": 4
}
